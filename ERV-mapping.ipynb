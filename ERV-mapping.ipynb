{
 "cells": [
  {
   "cell_type": "markdown",
   "metadata": {},
   "source": [
    "__tasks:__\n",
    "- Converting `bed12` annotations from [HERVd: the Human Endogenous RetroViruses Database](https://herv.img.cas.cz/) to `gtf`\n",
    "- Build alignment index for STAR and Salmon algorithms."
   ]
  },
  {
   "cell_type": "code",
   "execution_count": 13,
   "metadata": {
    "tags": []
   },
   "outputs": [],
   "source": [
    "import subprocess"
   ]
  },
  {
   "cell_type": "markdown",
   "metadata": {},
   "source": [
    "https://github.com/CGATOxford/cgat/blob/master/CGAT/scripts/bed2gff.py"
   ]
  },
  {
   "cell_type": "code",
   "execution_count": 17,
   "metadata": {
    "tags": []
   },
   "outputs": [],
   "source": [
    "def convert_bed12_to_gtf(BED):\n",
    "    GTF = BED.replace('.bed.','.gtf.')\n",
    "    cm = f'zcat {BED} | cgat bed2gff --as-gtf - | gzip > {GTF}'\n",
    "    subprocess.run(cm,shell=True)"
   ]
  },
  {
   "cell_type": "code",
   "execution_count": 12,
   "metadata": {
    "tags": []
   },
   "outputs": [],
   "source": [
    "path_to_files = '/data_gilbert/home/aarab/tools/HERVs/files'"
   ]
  },
  {
   "cell_type": "markdown",
   "metadata": {
    "tags": []
   },
   "source": [
    "### erv"
   ]
  },
  {
   "cell_type": "code",
   "execution_count": 19,
   "metadata": {},
   "outputs": [],
   "source": [
    "convert_bed12_to_gtf(\n",
    "    BED = f'{path_to_files}/package-entities-erv.bed.gz'\n",
    ")"
   ]
  },
  {
   "cell_type": "markdown",
   "metadata": {
    "tags": []
   },
   "source": [
    "### line"
   ]
  },
  {
   "cell_type": "code",
   "execution_count": 20,
   "metadata": {},
   "outputs": [],
   "source": [
    "convert_bed12_to_gtf(\n",
    "    BED = f'{path_to_files}/package-entities-line.bed.gz'\n",
    ")"
   ]
  },
  {
   "cell_type": "markdown",
   "metadata": {
    "tags": []
   },
   "source": [
    "### rc"
   ]
  },
  {
   "cell_type": "code",
   "execution_count": 21,
   "metadata": {
    "tags": []
   },
   "outputs": [],
   "source": [
    "convert_bed12_to_gtf(\n",
    "    BED = f'{path_to_files}/package-entities-rc.bed.gz'\n",
    ")"
   ]
  },
  {
   "cell_type": "markdown",
   "metadata": {
    "tags": []
   },
   "source": [
    "### retroposon"
   ]
  },
  {
   "cell_type": "code",
   "execution_count": 22,
   "metadata": {
    "tags": []
   },
   "outputs": [],
   "source": [
    "convert_bed12_to_gtf(\n",
    "    BED = f'{path_to_files}/package-entities-retroposon.bed.gz'\n",
    ")"
   ]
  },
  {
   "cell_type": "markdown",
   "metadata": {
    "tags": []
   },
   "source": [
    "### satellite"
   ]
  },
  {
   "cell_type": "code",
   "execution_count": 23,
   "metadata": {
    "tags": []
   },
   "outputs": [],
   "source": [
    "convert_bed12_to_gtf(\n",
    "    BED = f'{path_to_files}/package-entities-satellite.bed.gz'\n",
    ")"
   ]
  },
  {
   "cell_type": "markdown",
   "metadata": {
    "tags": []
   },
   "source": [
    "### scrna"
   ]
  },
  {
   "cell_type": "code",
   "execution_count": 24,
   "metadata": {
    "tags": []
   },
   "outputs": [],
   "source": [
    "convert_bed12_to_gtf(\n",
    "    BED = f'{path_to_files}/package-entities-scrna.bed.gz'\n",
    ")"
   ]
  },
  {
   "cell_type": "markdown",
   "metadata": {
    "tags": []
   },
   "source": [
    "### sine"
   ]
  },
  {
   "cell_type": "code",
   "execution_count": 25,
   "metadata": {
    "tags": []
   },
   "outputs": [],
   "source": [
    "convert_bed12_to_gtf(\n",
    "    BED = f'{path_to_files}/package-entities-sine.bed.gz'\n",
    ")"
   ]
  },
  {
   "cell_type": "markdown",
   "metadata": {
    "tags": []
   },
   "source": [
    "### snrna"
   ]
  },
  {
   "cell_type": "code",
   "execution_count": 26,
   "metadata": {
    "tags": []
   },
   "outputs": [],
   "source": [
    "convert_bed12_to_gtf(\n",
    "    BED = f'{path_to_files}/package-entities-snrna.bed.gz'\n",
    ")"
   ]
  },
  {
   "cell_type": "markdown",
   "metadata": {
    "tags": []
   },
   "source": [
    "### trna"
   ]
  },
  {
   "cell_type": "code",
   "execution_count": 27,
   "metadata": {
    "tags": []
   },
   "outputs": [],
   "source": [
    "convert_bed12_to_gtf(\n",
    "    BED = f'{path_to_files}/package-entities-trna.bed.gz'\n",
    ")"
   ]
  },
  {
   "cell_type": "markdown",
   "metadata": {},
   "source": [
    "## ..."
   ]
  },
  {
   "cell_type": "markdown",
   "metadata": {},
   "source": [
    "    Error in `colnames<-`(`*tmp*`, value = c(paste(samplenames, \"input\", sep = \"-\"), : attempt to set 'colnames' on an object with less than two dimensions"
   ]
  },
  {
   "cell_type": "code",
   "execution_count": 18,
   "metadata": {
    "tags": []
   },
   "outputs": [],
   "source": [
    "%%bash\n",
    "for gtf in files/*gtf.gz; do\n",
    "    gtf1=${gtf/.gtf.gz/.c.gtf.gz};\n",
    "    \n",
    "    zcat $gtf | grep -v \"#\" | \\\n",
    "    awk 'BEGIN {OFS=\"\\t\"} NR==1 {print \"seqname\", \"source\", \"feature\", \"start\", \"end\", \"score\", \"strand\", \"frame\", \"attribute\"} {print}' - | \\\n",
    "    gzip > $gtf1;\n",
    "done"
   ]
  },
  {
   "cell_type": "code",
   "execution_count": null,
   "metadata": {},
   "outputs": [],
   "source": []
  },
  {
   "cell_type": "markdown",
   "metadata": {
    "tags": []
   },
   "source": [
    "## bed2fa"
   ]
  },
  {
   "cell_type": "code",
   "execution_count": 5,
   "metadata": {
    "tags": []
   },
   "outputs": [],
   "source": [
    "# !zcat files/package-entities-erv.gff3.gz | head -n 40"
   ]
  },
  {
   "cell_type": "code",
   "execution_count": 7,
   "metadata": {
    "tags": []
   },
   "outputs": [],
   "source": [
    "# !zcat files/package-entities-erv.bed.gz | head -n 40"
   ]
  },
  {
   "cell_type": "markdown",
   "metadata": {
    "tags": []
   },
   "source": [
    "`cgat` env"
   ]
  },
  {
   "cell_type": "code",
   "execution_count": 28,
   "metadata": {
    "tags": []
   },
   "outputs": [],
   "source": [
    "def convert_bed12_to_fasta(BED,ref_fa):\n",
    "    FASTA = BED.replace('.bed.gz','.bed.fa.gz')\n",
    "    cm = f'zcat {BED} | bedtools getfasta -split -name+ -fi {ref_fa} -bed - | gzip > {FASTA}'\n",
    "    subprocess.run(cm,shell=True)"
   ]
  },
  {
   "cell_type": "code",
   "execution_count": 31,
   "metadata": {
    "tags": []
   },
   "outputs": [],
   "source": [
    "path_to_files = '/data_gilbert/home/aarab/tools/HERVs/files'\n",
    "ref_fa='/data_gilbert/home/aarab/genomes/hg38/gencode.v34/GRCh38.primary_assembly.genome.fa'"
   ]
  },
  {
   "cell_type": "markdown",
   "metadata": {},
   "source": [
    "for loop ..."
   ]
  },
  {
   "cell_type": "code",
   "execution_count": 38,
   "metadata": {
    "tags": []
   },
   "outputs": [],
   "source": [
    "for name in ['erv','line','rc','retroposon','satellite','scrna','sine','snrna','trna']:\n",
    "    convert_bed12_to_fasta(\n",
    "        BED = f'{path_to_files}/package-entities-{name}.bed.gz',\n",
    "        ref_fa=ref_fa\n",
    "    )"
   ]
  },
  {
   "cell_type": "markdown",
   "metadata": {
    "tags": []
   },
   "source": [
    "## STAR Index"
   ]
  },
  {
   "cell_type": "markdown",
   "metadata": {
    "tags": []
   },
   "source": [
    "`alignment` env"
   ]
  },
  {
   "cell_type": "markdown",
   "metadata": {},
   "source": [
    "https://hbctraining.github.io/Intro-to-rnaseq-hpc-O2/lessons/03_alignment.html"
   ]
  },
  {
   "cell_type": "code",
   "execution_count": 2,
   "metadata": {
    "tags": []
   },
   "outputs": [],
   "source": [
    "# %%bash\n",
    "# FASTA=~/genomes/hg38/gencode.v34/GRCh38.primary_assembly.genome.fa\n",
    "\n",
    "# zcat from-dac-project/package-entities-satellite.bed.gz | \\\n",
    "# bedtools getfasta -name+ -s -fi $FASTA -bed - -split | head"
   ]
  },
  {
   "cell_type": "code",
   "execution_count": 3,
   "metadata": {
    "tags": []
   },
   "outputs": [],
   "source": [
    "# !head from-dac-project/package-entities-erv.gtf"
   ]
  },
  {
   "cell_type": "code",
   "execution_count": 4,
   "metadata": {
    "tags": []
   },
   "outputs": [],
   "source": [
    "# !zcat files/package-entities-erv.gff3.gz | head -n 30"
   ]
  },
  {
   "cell_type": "code",
   "execution_count": 5,
   "metadata": {
    "tags": []
   },
   "outputs": [
    {
     "name": "stdout",
     "output_type": "stream",
     "text": [
      "gtf=$1\n",
      "jobs=$2\n",
      "\n",
      "genome=${gtf/.gtf.gz/}\n",
      "\n",
      "echo ${genome}\n",
      "\n",
      "gunzip $gtf\n",
      "gtf=${gtf/.gz/}\n",
      "\n",
      "mkdir ${genome}_star_index\n",
      "\n",
      "STAR \\\n",
      "    --runThreadN ${jobs} \\\n",
      "    --runMode genomeGenerate \\\n",
      "    --genomeDir ${genome}_star_index \\\n",
      "    --limitGenomeGenerateRAM 400000000000 \\\n",
      "    --genomeFastaFiles /data_gilbert/home/aarab/genomes/hg38/gencode.v34/GRCh38.primary_assembly.genome.fa \\\n",
      "    --sjdbGTFfile ${gtf} \\\n",
      "    --sjdbOverhang 99 &> ${genome}.log\n",
      "\n",
      "gzip $gtf\n"
     ]
    }
   ],
   "source": [
    "cat star_index.sh"
   ]
  },
  {
   "cell_type": "code",
   "execution_count": 6,
   "metadata": {
    "tags": []
   },
   "outputs": [
    {
     "name": "stdout",
     "output_type": "stream",
     "text": [
      "Sat Aug 26 16:46:44 PDT 2023\n",
      "package-entities-erv.gtf.gz\n",
      "package-entities-erv\n",
      "Done!\n",
      "\n",
      "Sat Aug 26 17:12:12 PDT 2023\n",
      "package-entities-line.gtf.gz\n",
      "package-entities-line\n",
      "Done!\n",
      "\n",
      "Sat Aug 26 17:39:05 PDT 2023\n",
      "package-entities-rc.gtf.gz\n",
      "package-entities-rc\n",
      "Done!\n",
      "\n",
      "Sat Aug 26 18:04:20 PDT 2023\n",
      "package-entities-retroposon.gtf.gz\n",
      "package-entities-retroposon\n",
      "Done!\n",
      "\n",
      "Sat Aug 26 18:30:06 PDT 2023\n",
      "package-entities-satellite.gtf.gz\n",
      "package-entities-satellite\n",
      "Done!\n",
      "\n",
      "Sat Aug 26 18:55:37 PDT 2023\n",
      "package-entities-scrna.gtf.gz\n",
      "package-entities-scrna\n",
      "Done!\n",
      "\n",
      "Sat Aug 26 19:20:46 PDT 2023\n",
      "package-entities-sine.gtf.gz\n",
      "package-entities-sine\n",
      "Done!\n",
      "\n",
      "Sat Aug 26 19:46:20 PDT 2023\n",
      "package-entities-snrna.gtf.gz\n",
      "package-entities-snrna\n",
      "Done!\n",
      "\n",
      "Sat Aug 26 20:11:34 PDT 2023\n",
      "package-entities-trna.gtf.gz\n",
      "package-entities-trna\n",
      "Done!\n",
      "\n"
     ]
    },
    {
     "name": "stderr",
     "output_type": "stream",
     "text": [
      "mkdir: cannot create directory ‘package-entities-erv_star_index’: File exists\n"
     ]
    }
   ],
   "source": [
    "%%bash\n",
    "FASTA='/data_gilbert/home/aarab/genomes/hg38/gencode.v34/GRCh38.primary_assembly.genome.fa'\n",
    "\n",
    "cd files\n",
    "for gtf in *.gtf.gz; do\n",
    "    echo `date`\n",
    "    echo $gtf\n",
    "    bash ../star_index.sh $gtf $FASTA 36\n",
    "    echo \"Done!\"\n",
    "    echo \"\"\n",
    "done\n",
    "cd ../"
   ]
  },
  {
   "cell_type": "markdown",
   "metadata": {},
   "source": [
    "## Salmon index"
   ]
  },
  {
   "cell_type": "code",
   "execution_count": 23,
   "metadata": {
    "tags": []
   },
   "outputs": [],
   "source": [
    "def build_salmon_index(FASTA):\n",
    "    index=FASTA.replace('.fa.gz','_salmon_index')\n",
    "    cm = f'salmon index -t {FASTA} -i {index}'    \n",
    "    print(FASTA)\n",
    "    \n",
    "    subprocess.run(cm,shell=True)"
   ]
  },
  {
   "cell_type": "code",
   "execution_count": 24,
   "metadata": {
    "tags": []
   },
   "outputs": [
    {
     "name": "stdout",
     "output_type": "stream",
     "text": [
      "/data_gilbert/home/aarab/tools/HERVs/files/package-entities-erv.bed.fa.gz\n",
      "/data_gilbert/home/aarab/tools/HERVs/files/package-entities-line.bed.fa.gz\n",
      "/data_gilbert/home/aarab/tools/HERVs/files/package-entities-rc.bed.fa.gz\n",
      "/data_gilbert/home/aarab/tools/HERVs/files/package-entities-retroposon.bed.fa.gz\n",
      "/data_gilbert/home/aarab/tools/HERVs/files/package-entities-satellite.bed.fa.gz\n",
      "/data_gilbert/home/aarab/tools/HERVs/files/package-entities-scrna.bed.fa.gz\n",
      "/data_gilbert/home/aarab/tools/HERVs/files/package-entities-sine.bed.fa.gz\n",
      "/data_gilbert/home/aarab/tools/HERVs/files/package-entities-snrna.bed.fa.gz\n",
      "/data_gilbert/home/aarab/tools/HERVs/files/package-entities-trna.bed.fa.gz\n"
     ]
    }
   ],
   "source": [
    "for name in ['erv','line','rc','retroposon','satellite','scrna','sine','snrna','trna']:\n",
    "    build_salmon_index(\n",
    "        FASTA = f'{path_to_files}/package-entities-{name}.bed.fa.gz',\n",
    "    )"
   ]
  },
  {
   "cell_type": "markdown",
   "metadata": {},
   "source": [
    "## "
   ]
  },
  {
   "cell_type": "code",
   "execution_count": 25,
   "metadata": {},
   "outputs": [
    {
     "name": "stdout",
     "output_type": "stream",
     "text": [
      "Sat Sep  2 22:22:16 PDT 2023\n"
     ]
    }
   ],
   "source": [
    "!date"
   ]
  }
 ],
 "metadata": {
  "kernelspec": {
   "display_name": "Python [conda env:anaconda3-alignment]",
   "language": "python",
   "name": "conda-env-anaconda3-alignment-py"
  },
  "language_info": {
   "codemirror_mode": {
    "name": "ipython",
    "version": 3
   },
   "file_extension": ".py",
   "mimetype": "text/x-python",
   "name": "python",
   "nbconvert_exporter": "python",
   "pygments_lexer": "ipython3",
   "version": "3.6.10"
  }
 },
 "nbformat": 4,
 "nbformat_minor": 4
}
